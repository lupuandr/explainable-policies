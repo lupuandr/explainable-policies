{
 "cells": [
  {
   "cell_type": "code",
   "execution_count": 1,
   "id": "32fbeee3",
   "metadata": {},
   "outputs": [],
   "source": [
    "import jax\n",
    "import jax.numpy as jnp\n",
    "import flax.linen as nn\n",
    "import numpy as np\n",
    "import optax\n",
    "from flax.linen.initializers import constant, orthogonal\n",
    "from typing import Sequence, NamedTuple, Any\n",
    "from flax.training.train_state import TrainState\n",
    "import distrax\n",
    "import gymnax\n",
    "from gymnax.wrappers.purerl import LogWrapper, FlattenObservationWrapper\n",
    "import time"
   ]
  },
  {
   "cell_type": "code",
   "execution_count": 2,
   "id": "b4dcc0f4",
   "metadata": {},
   "outputs": [],
   "source": [
    "class BCAgent(nn.Module):\n",
    "    \"\"\"Network architecture. Matches MinAtar PPO agent from PureJaxRL\"\"\"\n",
    "\n",
    "    action_dim: Sequence[int]\n",
    "    activation: str = \"tanh\"\n",
    "\n",
    "    @nn.compact\n",
    "    def __call__(self, x):\n",
    "        if self.activation == \"relu\":\n",
    "            activation = nn.relu\n",
    "        else:\n",
    "            activation = nn.tanh\n",
    "        actor_mean = nn.Dense(\n",
    "            64, kernel_init=orthogonal(np.sqrt(2)), bias_init=constant(0.0)\n",
    "        )(x)\n",
    "        actor_mean = activation(actor_mean)\n",
    "        actor_mean = nn.Dense(\n",
    "            64, kernel_init=orthogonal(np.sqrt(2)), bias_init=constant(0.0)\n",
    "        )(actor_mean)\n",
    "        actor_mean = activation(actor_mean)\n",
    "        actor_mean = nn.Dense(\n",
    "            self.action_dim, kernel_init=orthogonal(0.01), bias_init=constant(0.0)\n",
    "        )(actor_mean)\n",
    "        #         pi = distrax.Categorical(logits=actor_mean)\n",
    "\n",
    "        return actor_mean\n",
    "\n",
    "\n",
    "class Transition(NamedTuple):\n",
    "    done: jnp.ndarray\n",
    "    action: jnp.ndarray\n",
    "    value: jnp.ndarray\n",
    "    reward: jnp.ndarray\n",
    "    log_prob: jnp.ndarray\n",
    "    obs: jnp.ndarray\n",
    "    info: jnp.ndarray"
   ]
  },
  {
   "cell_type": "markdown",
   "id": "ed1544f4",
   "metadata": {},
   "source": [
    "# Behavioural Cloning Training Loop (WIP)"
   ]
  },
  {
   "cell_type": "code",
   "execution_count": 3,
   "id": "f60f353d",
   "metadata": {},
   "outputs": [],
   "source": [
    "def make_train(config):\n",
    "    \"\"\"Create training function based on config.\"\"\"\n",
    "    config[\"NUM_UPDATES\"] = config[\"UPDATE_EPOCHS\"]\n",
    "\n",
    "    env, env_params = gymnax.make(config[\"ENV_NAME\"])\n",
    "    env = FlattenObservationWrapper(env)\n",
    "    env = LogWrapper(env)\n",
    "\n",
    "    # Do I need a schedule on the LR for BC?\n",
    "    def linear_schedule(count):\n",
    "        frac = 1.0 - (count // config[\"NUM_UPDATES\"])\n",
    "        return config[\"LR\"] * frac\n",
    "\n",
    "    def train(synth_data, action_labels, rng):\n",
    "        \"\"\"Train using BC on synthetic data with fixed action labels and evaluate on RL environment\"\"\"\n",
    "\n",
    "        # 1. INIT NETWORK AND TRAIN STATE\n",
    "        network = BCAgent(\n",
    "            env.action_space(env_params).n, activation=config[\"ACTIVATION\"]\n",
    "        )\n",
    "        rng, _rng = jax.random.split(rng)\n",
    "        init_x = jnp.zeros(env.observation_space(env_params).shape)\n",
    "        network_params = network.init(_rng, init_x)\n",
    "\n",
    "        assert (\n",
    "            synth_data[0].shape == env.observation_space(env_params).shape\n",
    "        ), f\"Data of shape {synth_data[0].shape} does not match env observations of shape {env.observation_space(env_params).shape}\"\n",
    "\n",
    "        # Setup optimizer\n",
    "        if config[\"ANNEAL_LR\"]:\n",
    "            tx = optax.chain(\n",
    "                optax.clip_by_global_norm(config[\"MAX_GRAD_NORM\"]),\n",
    "                optax.adam(learning_rate=linear_schedule, eps=1e-5),\n",
    "            )\n",
    "        else:\n",
    "            tx = optax.chain(\n",
    "                optax.clip_by_global_norm(config[\"MAX_GRAD_NORM\"]),\n",
    "                optax.adam(config[\"LR\"], eps=1e-5),\n",
    "            )\n",
    "\n",
    "        # Train state carries everything needed for NN training\n",
    "        train_state = TrainState.create(\n",
    "            apply_fn=network.apply,\n",
    "            params=network_params,\n",
    "            tx=tx,\n",
    "        )\n",
    "\n",
    "        # 2. BC TRAIN LOOP\n",
    "        def _bc_train(train_state, rng):\n",
    "            def _bc_update_step(bc_state, unused):\n",
    "                train_state, rng = bc_state\n",
    "\n",
    "                def _loss_and_acc(params, apply_fn, step_data, y_true, num_classes):\n",
    "                    \"\"\"Compute cross-entropy loss and accuracy.\"\"\"\n",
    "                    y_pred = apply_fn(params, step_data)\n",
    "                    acc = jnp.mean(jnp.argmax(y_pred, axis=-1) == y_true)\n",
    "                    labels = jax.nn.one_hot(y_true, num_classes)\n",
    "                    loss = -jnp.sum(labels * jax.nn.log_softmax(y_pred))\n",
    "                    loss /= labels.shape[0]\n",
    "                    return loss, acc\n",
    "\n",
    "                grad_fn = jax.value_and_grad(_loss_and_acc, has_aux=True)\n",
    "\n",
    "                # Not needed if using entire dataset\n",
    "                rng, perm_rng = jax.random.split(rng)\n",
    "                perm = jax.random.permutation(perm_rng, len(action_labels))\n",
    "                step_data = synth_data[perm]\n",
    "                y_true = action_labels[perm]\n",
    "\n",
    "                loss_and_acc, grads = grad_fn(\n",
    "                    train_state.params,\n",
    "                    train_state.apply_fn,\n",
    "                    step_data,\n",
    "                    y_true,\n",
    "                    env.action_space().n,\n",
    "                )\n",
    "                train_state = train_state.apply_gradients(grads=grads)\n",
    "                bc_state = (train_state, rng)\n",
    "                return bc_state, loss_and_acc\n",
    "\n",
    "            bc_state = (train_state, rng)\n",
    "            bc_state, loss_and_acc = jax.lax.scan(\n",
    "                _bc_update_step, bc_state, None, config[\"UPDATE_EPOCHS\"]\n",
    "            )\n",
    "            loss, acc = loss_and_acc\n",
    "            return bc_state, loss, acc\n",
    "\n",
    "        rng, _rng = jax.random.split(rng)\n",
    "        bc_state, bc_loss, bc_acc = _bc_train(train_state, _rng)\n",
    "        train_state = bc_state[0]\n",
    "\n",
    "        # Init envs\n",
    "        rng, _rng = jax.random.split(rng)\n",
    "        reset_rng = jax.random.split(_rng, config[\"NUM_ENVS\"])\n",
    "        obsv, env_state = jax.vmap(env.reset, in_axes=(0, None))(reset_rng, env_params)\n",
    "\n",
    "        # 3. POLICY EVAL LOOP\n",
    "        def _eval_ep(runner_state):\n",
    "            # Environment stepper\n",
    "            def _env_step(runner_state, unused):\n",
    "                train_state, env_state, last_obs, rng = runner_state\n",
    "\n",
    "                # Select Action\n",
    "                rng, _rng = jax.random.split(rng)\n",
    "                pi = train_state.apply_fn(train_state.params, last_obs)\n",
    "                if config[\"GREEDY_ACT\"]:\n",
    "                    action = pi.argmax(\n",
    "                        axis=-1\n",
    "                    )  # if 2+ actions are equiprobable, returns first\n",
    "                else:\n",
    "                    probs = distrax.Categorical(logits=pi)\n",
    "                    action = probs.sample(seed=_rng)\n",
    "\n",
    "                # Step env\n",
    "                rng, _rng = jax.random.split(rng)\n",
    "                rng_step = jax.random.split(_rng, config[\"NUM_ENVS\"])\n",
    "\n",
    "                obsv, env_state, reward, done, info = jax.vmap(\n",
    "                    env.step, in_axes=(0, 0, 0, None)\n",
    "                )(rng_step, env_state, action, env_params)\n",
    "                transition = Transition(\n",
    "                    done, action, -1, reward, jax.nn.log_softmax(pi), last_obs, info\n",
    "                )\n",
    "                runner_state = (train_state, env_state, obsv, rng)\n",
    "                return runner_state, transition\n",
    "\n",
    "            runner_state, traj_batch = jax.lax.scan(\n",
    "                _env_step, runner_state, None, config[\"NUM_STEPS\"]\n",
    "            )\n",
    "            metric = traj_batch.info\n",
    "            return runner_state, metric\n",
    "\n",
    "        rng, _rng = jax.random.split(rng)\n",
    "        runner_state = (train_state, env_state, obsv, _rng)\n",
    "        runner_state, metric = _eval_ep(runner_state)\n",
    "\n",
    "        metric[\"bc_loss\"] = bc_loss\n",
    "        metric[\"bc_accuracy\"] = bc_acc\n",
    "\n",
    "        return {\"runner_state\": runner_state, \"metrics\": metric}\n",
    "\n",
    "    return train"
   ]
  },
  {
   "cell_type": "markdown",
   "id": "33ddf4b7",
   "metadata": {},
   "source": [
    "# Meta-learning the Dataset"
   ]
  },
  {
   "cell_type": "code",
   "execution_count": 4,
   "id": "7ddc9112",
   "metadata": {},
   "outputs": [],
   "source": [
    "from evosax import OpenES, ParameterReshaper\n",
    "from evosax.problems import VisionFitness"
   ]
  },
  {
   "cell_type": "code",
   "execution_count": 5,
   "id": "2bbf18c5",
   "metadata": {},
   "outputs": [],
   "source": [
    "config = {\n",
    "    \"LR\": 2.5e-2,  # 5e-3      # 2.5e-2 to 5e-2 brings BC loss to ~0 for UPDATE_EPOCHS=10 and up to 100 states/action\n",
    "    \"NUM_ENVS\": 8,  # Num eval envs\n",
    "    \"NUM_STEPS\": 128,  # Max num eval steps per env\n",
    "    \"UPDATE_EPOCHS\": 10,  # Num BC gradient steps\n",
    "    \"MAX_GRAD_NORM\": 0.5,\n",
    "    \"ACTIVATION\": \"relu\",\n",
    "    \"ENV_NAME\": \"Breakout-MinAtar\",\n",
    "    \"ANNEAL_LR\": True,\n",
    "    \"GREEDY_ACT\": True,  # Whether to use greedy act in env or sample\n",
    "}"
   ]
  },
  {
   "cell_type": "code",
   "execution_count": 18,
   "id": "82681e2c",
   "metadata": {},
   "outputs": [
    {
     "name": "stdout",
     "output_type": "stream",
     "text": [
      "ParameterReshaper: 12000 parameters detected for optimization.\n"
     ]
    }
   ],
   "source": [
    "env, env_params = gymnax.make(config[\"ENV_NAME\"])\n",
    "env = FlattenObservationWrapper(env)\n",
    "env = LogWrapper(env)\n",
    "\n",
    "n_actions = env.action_space(env_params).n\n",
    "\n",
    "es_config = {\n",
    "    \"popsize\": 20,  # Num of candidates\n",
    "    \"dataset_size\": n_actions * 10,  # Num of (s,a) pairs (split evenly across actions)\n",
    "    \"rollouts_per_candidate\": 4,  # Num of BC policies trained per candidate\n",
    "    \"n_generations\": 20,\n",
    "    \"log_interval\": 1,\n",
    "}\n",
    "\n",
    "params = jnp.zeros(\n",
    "    (es_config[\"dataset_size\"], *env.observation_space(env_params).shape)\n",
    ")\n",
    "param_reshaper = ParameterReshaper(params)"
   ]
  },
  {
   "cell_type": "markdown",
   "id": "08f44794",
   "metadata": {},
   "source": [
    "### Setup"
   ]
  },
  {
   "cell_type": "code",
   "execution_count": 19,
   "id": "0153bb06",
   "metadata": {},
   "outputs": [],
   "source": [
    "# Initialize OpenES Strategy\n",
    "rng = jax.random.PRNGKey(0)\n",
    "rng, rng_init = jax.random.split(rng)\n",
    "\n",
    "strategy = OpenES(\n",
    "    popsize=es_config[\"popsize\"],\n",
    "    num_dims=param_reshaper.total_params,\n",
    "    opt_name=\"adam\",\n",
    "    maximize=True,\n",
    ")\n",
    "state = strategy.initialize(rng_init)\n",
    "\n",
    "\n",
    "def get_action_labels(d_size, n_actions):\n",
    "    action_labels = jnp.array([i % n_actions for i in range(d_size)])\n",
    "    action_labels = action_labels.sort()\n",
    "    return action_labels\n",
    "\n",
    "\n",
    "# Set up vectorized fitness function\n",
    "train_fn = make_train(config)\n",
    "action_labels = get_action_labels(es_config[\"dataset_size\"], n_actions)\n",
    "\n",
    "\n",
    "def single_seed_BC(rng_input, dataset):\n",
    "    out = train_fn(dataset, action_labels, rng_input)\n",
    "    return out  # [\"metrics\"]['returned_episode_returns'].mean()\n",
    "\n",
    "\n",
    "multi_seed_BC = jax.vmap(single_seed_BC, in_axes=(0, None))  # Vectorize over seeds\n",
    "train_and_eval = jax.jit(\n",
    "    jax.vmap(multi_seed_BC, in_axes=(None, 0))\n",
    ")  # Vectorize over datasets\n",
    "\n",
    "if len(jax.devices()) > 1:\n",
    "    train_and_eval = jax.pmap(train_and_eval, in_axes=(None, 0))"
   ]
  },
  {
   "cell_type": "markdown",
   "id": "637e5f82",
   "metadata": {},
   "source": [
    "### Run OpenES loop"
   ]
  },
  {
   "cell_type": "code",
   "execution_count": 20,
   "id": "7ff3e5a6",
   "metadata": {
    "scrolled": false
   },
   "outputs": [
    {
     "name": "stdout",
     "output_type": "stream",
     "text": [
      "Generation: 0, Fitness: 0.23 +/- 0.24, Best: 0.67, Time since last log: 5.5s\n",
      "Generation: 1, Fitness: 0.35 +/- 0.19, Best: 0.67, Time since last log: 0.7s\n",
      "Generation: 2, Fitness: 0.48 +/- 0.06, Best: 0.72, Time since last log: 0.7s\n",
      "Generation: 3, Fitness: 0.48 +/- 0.00, Best: 0.72, Time since last log: 0.8s\n",
      "Generation: 4, Fitness: 0.54 +/- 0.00, Best: 0.72, Time since last log: 0.7s\n",
      "Generation: 5, Fitness: 0.47 +/- 0.00, Best: 0.72, Time since last log: 0.7s\n",
      "Generation: 6, Fitness: 0.46 +/- 0.00, Best: 0.72, Time since last log: 0.7s\n",
      "Generation: 7, Fitness: 0.47 +/- 0.00, Best: 0.72, Time since last log: 0.7s\n",
      "Generation: 8, Fitness: 0.48 +/- 0.00, Best: 0.72, Time since last log: 0.7s\n",
      "Generation: 9, Fitness: 0.50 +/- 0.00, Best: 0.72, Time since last log: 0.6s\n",
      "Generation: 10, Fitness: 0.45 +/- 0.00, Best: 0.72, Time since last log: 0.7s\n",
      "Generation: 11, Fitness: 0.50 +/- 0.02, Best: 0.72, Time since last log: 0.7s\n",
      "Generation: 12, Fitness: 0.47 +/- 0.00, Best: 0.72, Time since last log: 0.7s\n",
      "Generation: 13, Fitness: 0.48 +/- 0.00, Best: 0.72, Time since last log: 0.7s\n",
      "Generation: 14, Fitness: 0.45 +/- 0.00, Best: 0.72, Time since last log: 0.7s\n",
      "Generation: 15, Fitness: 0.45 +/- 0.00, Best: 0.72, Time since last log: 0.7s\n",
      "Generation: 16, Fitness: 0.54 +/- 0.00, Best: 0.72, Time since last log: 0.8s\n",
      "Generation: 17, Fitness: 0.47 +/- 0.00, Best: 0.72, Time since last log: 0.7s\n",
      "Generation: 18, Fitness: 0.46 +/- 0.00, Best: 0.72, Time since last log: 0.7s\n",
      "Generation: 19, Fitness: 0.51 +/- 0.00, Best: 0.72, Time since last log: 0.7s\n",
      "Total time: 0.3min\n"
     ]
    }
   ],
   "source": [
    "start = time.time()\n",
    "lap_start = start\n",
    "for gen in range(es_config[\"n_generations\"]):\n",
    "    # Gen new dataset\n",
    "    rng, rng_ask, rng_inner = jax.random.split(rng, 3)\n",
    "    datasets, state = jax.jit(strategy.ask)(rng_ask, state)\n",
    "    # Eval fitness\n",
    "    batch_rng = jax.random.split(rng_inner, es_config[\"rollouts_per_candidate\"])\n",
    "\n",
    "    with jax.disable_jit(False):\n",
    "        shaped_datasets = param_reshaper.reshape(datasets)\n",
    "        out = train_and_eval(batch_rng, shaped_datasets)\n",
    "\n",
    "        returns = out[\"metrics\"][\n",
    "            \"returned_episode_returns\"\n",
    "        ]  # dim=(popsize, rollouts, num_steps, num_envs)\n",
    "        dones = out[\"metrics\"][\n",
    "            \"returned_episode\"\n",
    "        ]  # same dim, True for last steps, False otherwise\n",
    "        fitness = (returns * dones).sum(axis=(1, 2, 3)) / dones.sum(\n",
    "            axis=(1, 2, 3)\n",
    "        )  # fitness, dim = (popsize)\n",
    "\n",
    "    # Update ES strategy with fitness info\n",
    "    state = jax.jit(strategy.tell)(datasets, fitness, state)\n",
    "\n",
    "    if gen % es_config[\"log_interval\"] == 0 or gen == 0:\n",
    "        lap_end = time.time()\n",
    "        print(\n",
    "            f\"Generation: {gen}, Fitness: {fitness.mean():.2f} +/- {fitness.std():.2f}, \"\n",
    "            + f\"Best: {state.best_fitness:.2f}, Time since last log: {lap_end-lap_start:.1f}s\"\n",
    "        )\n",
    "        lap_start = lap_end\n",
    "#     break\n",
    "\n",
    "print(f\"Total time: {(lap_end-start)/60:.1f}min\")"
   ]
  },
  {
   "cell_type": "code",
   "execution_count": 16,
   "id": "799ed7c2",
   "metadata": {},
   "outputs": [
    {
     "data": {
      "text/plain": [
       "Array([0.5099715, 0.5099715, 0.5099715, 0.5099715, 0.5099715, 0.5099715,\n",
       "       0.5099715, 0.5099715, 0.5099715, 0.5099715, 0.5099715, 0.5099715,\n",
       "       0.5099715, 0.5099715, 0.5099715, 0.5099715, 0.5099715, 0.5099715,\n",
       "       0.5099715, 0.5099715], dtype=float32)"
      ]
     },
     "execution_count": 16,
     "metadata": {},
     "output_type": "execute_result"
    }
   ],
   "source": [
    "fitness"
   ]
  },
  {
   "cell_type": "code",
   "execution_count": 10,
   "id": "f68e26aa",
   "metadata": {},
   "outputs": [
    {
     "name": "stdout",
     "output_type": "stream",
     "text": [
      "expected size = (10, 4, 8)\n"
     ]
    },
    {
     "data": {
      "text/plain": [
       "(10, 4, 128, 8)"
      ]
     },
     "execution_count": 10,
     "metadata": {},
     "output_type": "execute_result"
    }
   ],
   "source": [
    "print(\n",
    "    f\"expected size = ({es_config['popsize']}, {es_config['rollouts_per_candidate']}, {config['NUM_ENVS']})\"\n",
    ")\n",
    "out[\"metrics\"][\"returned_episode_returns\"].shape"
   ]
  },
  {
   "cell_type": "code",
   "execution_count": 11,
   "id": "a7e05076",
   "metadata": {},
   "outputs": [
    {
     "data": {
      "text/plain": [
       "Array([0., 0., 0., 0., 0., 0., 0., 0., 0., 0., 0., 0., 0., 0., 0., 0., 0.,\n",
       "       0., 0., 0., 0., 0., 0., 0., 0., 0., 0., 0., 0., 0., 0., 0., 0., 0.,\n",
       "       0., 0., 0., 0., 0., 0., 0., 0., 0., 0., 0., 0., 0., 0., 0., 0., 0.,\n",
       "       0., 0., 0., 0., 0., 0., 0., 0., 0., 0., 0., 0., 0., 0., 0., 0., 0.,\n",
       "       0., 0., 0., 0., 0., 0., 0., 0., 0., 0., 0., 0., 0., 0., 0., 0., 0.,\n",
       "       0., 0., 0., 0., 0., 0., 0., 0., 0., 0., 0., 0., 0., 0., 0., 0., 0.,\n",
       "       0., 0., 0., 0., 0., 0., 0., 0., 0., 0., 0., 0., 0., 0., 0., 0., 0.,\n",
       "       0., 0., 0., 0., 0., 0., 0., 0., 0.], dtype=float32)"
      ]
     },
     "execution_count": 11,
     "metadata": {},
     "output_type": "execute_result"
    }
   ],
   "source": [
    "returns = out[\"metrics\"][\"returned_episode_returns\"]\n",
    "returns[1, 0, :, 4]"
   ]
  },
  {
   "cell_type": "code",
   "execution_count": 12,
   "id": "0d46f42a",
   "metadata": {},
   "outputs": [
    {
     "data": {
      "text/plain": [
       "Array([False, False, False, False, False,  True, False, False, False,\n",
       "       False, False,  True, False, False, False, False, False,  True,\n",
       "       False, False, False, False, False,  True, False, False, False,\n",
       "       False, False,  True, False, False, False, False, False,  True,\n",
       "       False, False, False, False, False,  True, False, False, False,\n",
       "       False, False,  True, False, False, False, False, False,  True,\n",
       "       False, False, False, False, False,  True, False, False, False,\n",
       "       False, False,  True, False, False, False, False, False,  True,\n",
       "       False, False, False, False, False,  True, False, False, False,\n",
       "       False, False,  True, False, False, False, False, False,  True,\n",
       "       False, False, False, False, False,  True, False, False, False,\n",
       "       False, False,  True, False, False, False, False, False,  True,\n",
       "       False, False, False, False, False,  True, False, False, False,\n",
       "       False, False,  True, False, False, False, False, False,  True,\n",
       "       False, False], dtype=bool)"
      ]
     },
     "execution_count": 12,
     "metadata": {},
     "output_type": "execute_result"
    }
   ],
   "source": [
    "dones = out[\"metrics\"][\"returned_episode\"]\n",
    "dones[1, 0, :, 4]"
   ]
  },
  {
   "cell_type": "code",
   "execution_count": 323,
   "id": "7c1adea1",
   "metadata": {
    "scrolled": false
   },
   "outputs": [
    {
     "data": {
      "text/plain": [
       "Array(0.6, dtype=float32)"
      ]
     },
     "execution_count": 323,
     "metadata": {},
     "output_type": "execute_result"
    }
   ],
   "source": [
    "returns[1, 0, :, 4][dones[1, 0, :, 4]].mean()"
   ]
  },
  {
   "cell_type": "code",
   "execution_count": 329,
   "id": "e32df68f",
   "metadata": {},
   "outputs": [
    {
     "data": {
      "text/plain": [
       "Array([526, 377, 517, 339, 356, 356, 356, 356, 356, 672], dtype=int32)"
      ]
     },
     "execution_count": 329,
     "metadata": {},
     "output_type": "execute_result"
    }
   ],
   "source": [
    "dones.sum(axis=(1, 2, 3))"
   ]
  },
  {
   "cell_type": "code",
   "execution_count": 326,
   "id": "06792ebb",
   "metadata": {},
   "outputs": [],
   "source": [
    "fit = (returns * dones).sum(axis=(1, 2, 3)) / dones.sum(axis=(1, 2, 3))"
   ]
  },
  {
   "cell_type": "code",
   "execution_count": 328,
   "id": "88705808",
   "metadata": {},
   "outputs": [
    {
     "name": "stdout",
     "output_type": "stream",
     "text": [
      "(526,)\n",
      "0.1539924\n",
      "(377,)\n",
      "0.4429708\n",
      "(517,)\n",
      "0.16247582\n",
      "(339,)\n",
      "0.49557522\n",
      "(356,)\n",
      "0.497191\n",
      "(356,)\n",
      "0.497191\n",
      "(356,)\n",
      "0.497191\n",
      "(356,)\n",
      "0.497191\n",
      "(356,)\n",
      "0.497191\n",
      "(672,)\n",
      "0.0\n"
     ]
    }
   ],
   "source": [
    "for i in range(10):\n",
    "    x = returns[i][dones[i]]\n",
    "    print(x.shape)\n",
    "    print(x.mean())\n",
    "    assert x.mean() == fit[i]"
   ]
  },
  {
   "cell_type": "code",
   "execution_count": 300,
   "id": "d2046de8",
   "metadata": {},
   "outputs": [
    {
     "name": "stdout",
     "output_type": "stream",
     "text": [
      "0.5364432\n",
      "0.5364432\n",
      "0.5364432\n",
      "0.5364432\n",
      "0.5364432\n",
      "0.5364432\n",
      "0.5364432\n",
      "0.5364432\n",
      "0.5364432\n",
      "0.5364432\n"
     ]
    }
   ],
   "source": [
    "for i in range(10):\n",
    "    f = (returns[i] * dones[i]).sum() / dones[i].sum()\n",
    "    print(f)"
   ]
  },
  {
   "cell_type": "code",
   "execution_count": 271,
   "id": "6495c39e",
   "metadata": {},
   "outputs": [
    {
     "data": {
      "text/plain": [
       "6"
      ]
     },
     "execution_count": 271,
     "metadata": {},
     "output_type": "execute_result"
    }
   ],
   "source": [
    "len(\n",
    "    [\n",
    "        16,\n",
    "        16,\n",
    "        16,\n",
    "        16,\n",
    "        16,\n",
    "        16,\n",
    "        16,\n",
    "        16,\n",
    "        16,\n",
    "        16,\n",
    "        16,\n",
    "        16,\n",
    "        16,\n",
    "        16,\n",
    "        16,\n",
    "        16,\n",
    "        16,\n",
    "        16,\n",
    "        16,\n",
    "        16,\n",
    "        16,\n",
    "        16,\n",
    "        16,\n",
    "        16,\n",
    "        16,\n",
    "        16,\n",
    "        16,\n",
    "        16,\n",
    "        16,\n",
    "        16,\n",
    "        16,\n",
    "        16,\n",
    "        16,\n",
    "        16,\n",
    "        16,\n",
    "        16,\n",
    "        16,\n",
    "        16,\n",
    "        16,\n",
    "        16,\n",
    "        16,\n",
    "        16,\n",
    "        16,\n",
    "        16,\n",
    "        16,\n",
    "        16,\n",
    "        16,\n",
    "        16,\n",
    "        16,\n",
    "        16,\n",
    "        16,\n",
    "        16,\n",
    "        16,\n",
    "        16,\n",
    "    ]\n",
    ") % 16"
   ]
  },
  {
   "cell_type": "code",
   "execution_count": 261,
   "id": "1c617539",
   "metadata": {},
   "outputs": [
    {
     "data": {
      "text/plain": [
       "Array([0., 0., 0., 0., 0., 0., 0., 0., 0., 0., 0., 0., 0., 0., 0., 0., 0.,\n",
       "       0., 0., 0., 0., 0., 0., 0., 0., 0., 0., 1., 1., 1., 1., 1., 1., 0.,\n",
       "       0., 0., 0., 0., 0., 0., 0., 0., 0., 0., 0., 0., 0., 0., 0., 1., 1.,\n",
       "       1., 1., 1., 1., 1., 1., 1., 1., 1., 1., 1., 1., 1., 1., 1., 1., 1.,\n",
       "       1., 1., 1., 1., 1., 1., 1., 1., 1., 1., 1., 1., 1., 1., 1., 1., 1.,\n",
       "       1., 1., 1., 1., 1., 1., 1., 1., 1., 1., 1., 1., 1., 1., 1., 1., 1.,\n",
       "       1., 1., 1., 1., 1., 1., 1., 1., 1., 1., 1., 1., 1., 1., 1., 1., 1.,\n",
       "       0., 0., 0., 0., 0., 0., 0., 0., 0.], dtype=float32)"
      ]
     },
     "execution_count": 261,
     "metadata": {},
     "output_type": "execute_result"
    }
   ],
   "source": [
    "returns[2, 1, :, 4]"
   ]
  },
  {
   "cell_type": "code",
   "execution_count": 235,
   "id": "86867eb5",
   "metadata": {},
   "outputs": [
    {
     "data": {
      "text/plain": [
       "(10, 4, 10)"
      ]
     },
     "execution_count": 235,
     "metadata": {},
     "output_type": "execute_result"
    }
   ],
   "source": [
    "out[\"metrics\"][\"bc_accuracy\"].shape"
   ]
  },
  {
   "cell_type": "code",
   "execution_count": 236,
   "id": "433af5d3",
   "metadata": {},
   "outputs": [
    {
     "data": {
      "image/png": "[encoded data removed]",
      "text/plain": [
       "<Figure size 640x480 with 2 Axes>"
      ]
     },
     "metadata": {},
     "output_type": "display_data"
    }
   ],
   "source": [
    "import matplotlib.pyplot as plt\n",
    "\n",
    "fig, ax = plt.subplots(2, 1)\n",
    "for i in range(es_config[\"popsize\"]):\n",
    "    acc = out[\"metrics\"][\"bc_accuracy\"][i].mean(axis=0)\n",
    "    ax[0].plot(acc)\n",
    "    ax[0].set_ylabel(\"Accuracy\")\n",
    "\n",
    "    loss = out[\"metrics\"][\"bc_loss\"][i].mean(axis=0)\n",
    "    ax[1].plot(loss)\n",
    "    ax[1].set_ylabel(\"BC Loss\")"
   ]
  },
  {
   "cell_type": "code",
   "execution_count": null,
   "id": "8bbd30ed",
   "metadata": {},
   "outputs": [],
   "source": [
    "rng = jax.random.PRNGKey(0)\n",
    "batch_rng = jax.random.split(rng, num_rollouts)"
   ]
  },
  {
   "cell_type": "code",
   "execution_count": null,
   "id": "524a2ae1",
   "metadata": {},
   "outputs": [],
   "source": [
    "rng = jax.random.PRNGKey(0)\n",
    "start = time.time()\n",
    "lap_start = start\n",
    "for i in range(2000):\n",
    "    rng, rng_x, rng_y = jax.random.split(rng, 3)\n",
    "    x = jax.random.uniform(rng_x, (10000, 10000))\n",
    "    y = jax.random.uniform(rng_y, (10000, 10000))\n",
    "\n",
    "    if i % 200 == 0 and i != 0:\n",
    "        lap_end = time.time()\n",
    "        print(f\"{lap_end - lap_start} seconds elapsed\")\n",
    "        lap_start = lap_end"
   ]
  },
  {
   "cell_type": "code",
   "execution_count": null,
   "id": "b6de559f",
   "metadata": {},
   "outputs": [],
   "source": []
  }
 ],
 "metadata": {
  "kernelspec": {
   "display_name": "Python 3 (ipykernel)",
   "language": "python",
   "name": "python3"
  },
  "language_info": {
   "codemirror_mode": {
    "name": "ipython",
    "version": 3
   },
   "file_extension": ".py",
   "mimetype": "text/x-python",
   "name": "python",
   "nbconvert_exporter": "python",
   "pygments_lexer": "ipython3",
   "version": "3.9.16"
  }
 },
 "nbformat": 4,
 "nbformat_minor": 5
}
